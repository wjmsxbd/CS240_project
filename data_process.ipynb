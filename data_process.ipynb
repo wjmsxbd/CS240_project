{
 "cells": [
  {
   "cell_type": "code",
   "execution_count": 1,
   "id": "3e75a1a5-77c4-47aa-b311-80ea0300898c",
   "metadata": {},
   "outputs": [
    {
     "data": {
      "text/plain": [
       "\"\\nIndex(['VendorID', 'lpep_pickup_datetime', 'lpep_dropoff_datetime',\\n       'store_and_fwd_flag', 'RatecodeID', 'PULocationID', 'DOLocationID',\\n       'passenger_count', 'trip_distance', 'fare_amount', 'extra', 'mta_tax',\\n       'tip_amount', 'tolls_amount', 'ehail_fee', 'improvement_surcharge',\\n       'total_amount', 'payment_type', 'trip_type', 'congestion_surcharge',\\n       'pickup_epoch', 'dropoff_epoch'],\\n      dtype='object')\\n372526\\n\\nIndex(['VendorID', 'tpep_pickup_datetime', 'tpep_dropoff_datetime',\\n       'passenger_count', 'trip_distance', 'pickup_longitude',\\n       'pickup_latitude', 'RatecodeID', 'store_and_fwd_flag',\\n       'dropoff_longitude', 'dropoff_latitude', 'payment_type', 'fare_amount',\\n       'extra', 'mta_tax', 'tip_amount', 'tolls_amount',\\n       'improvement_surcharge', 'total_amount'],\\n      dtype='object')\\n2798992\\n\""
      ]
     },
     "execution_count": 1,
     "metadata": {},
     "output_type": "execute_result"
    }
   ],
   "source": [
    "import pandas as pd\n",
    "import h3\n",
    "import json\n",
    "from tqdm import tqdm\n",
    "\n",
    "def timestamp_to_json(obj):\n",
    "    if isinstance(obj, pd.Timestamp):\n",
    "        return obj.isoformat()  # 转换为 ISO 格式的字符串\n",
    "    raise TypeError(f\"Type {type(obj)} not serializable\")\n",
    "\n",
    "def get_epoch(days, hours, minutes):\n",
    "    return ((days-22) * 24 * 60 + hours * 60 + minutes) // 5\n",
    "\n",
    "# 读取 Parquet 文件\n",
    "df = pd.read_csv('yellow_tripdata_2016-02.csv')\n",
    "# df = pd.read_parquet('green_tripdata_2016-02.parquet')\n",
    "\n",
    "# 确保日期列是 datetime 类型，进行转换\n",
    "df['tpep_pickup_datetime'] = pd.to_datetime(df['tpep_pickup_datetime'])\n",
    "df['tpep_dropoff_datetime'] = pd.to_datetime(df['tpep_dropoff_datetime'])\n",
    "pickup_day = df['tpep_pickup_datetime'].dt.day.astype(int)\n",
    "dropoff_day = df['tpep_dropoff_datetime'].dt.day.astype(int)\n",
    "# 设置日期范围\n",
    "start_date = 22\n",
    "end_date = 28\n",
    "\n",
    "# 过滤日期范围，假设你想筛选pickup和dropoff时间都在2016-02-22到2016-02-28之间\n",
    "filtered_df = df[\n",
    "    (pickup_day >= start_date) &\n",
    "    (pickup_day <= end_date) &\n",
    "    (dropoff_day >= start_date) &\n",
    "    (dropoff_day <= end_date)\n",
    "]\n",
    "\n",
    "\n",
    "\"\"\"\n",
    "Index(['VendorID', 'lpep_pickup_datetime', 'lpep_dropoff_datetime',\n",
    "       'store_and_fwd_flag', 'RatecodeID', 'PULocationID', 'DOLocationID',\n",
    "       'passenger_count', 'trip_distance', 'fare_amount', 'extra', 'mta_tax',\n",
    "       'tip_amount', 'tolls_amount', 'ehail_fee', 'improvement_surcharge',\n",
    "       'total_amount', 'payment_type', 'trip_type', 'congestion_surcharge',\n",
    "       'pickup_epoch', 'dropoff_epoch'],\n",
    "      dtype='object')\n",
    "372526\n",
    "\n",
    "Index(['VendorID', 'tpep_pickup_datetime', 'tpep_dropoff_datetime',\n",
    "       'passenger_count', 'trip_distance', 'pickup_longitude',\n",
    "       'pickup_latitude', 'RatecodeID', 'store_and_fwd_flag',\n",
    "       'dropoff_longitude', 'dropoff_latitude', 'payment_type', 'fare_amount',\n",
    "       'extra', 'mta_tax', 'tip_amount', 'tolls_amount',\n",
    "       'improvement_surcharge', 'total_amount'],\n",
    "      dtype='object')\n",
    "2798992\n",
    "\"\"\"\n"
   ]
  },
  {
   "cell_type": "code",
   "execution_count": 2,
   "id": "393dfad6-a716-4079-9f56-36352041c327",
   "metadata": {},
   "outputs": [],
   "source": [
    "nyc_center_long = -74.0060\n",
    "nyc_center_lat = 40.7128\n",
    "center_cell = h3.latlng_to_cell(nyc_center_lat, nyc_center_long, 8)\n",
    "hexagons = h3.grid_disk(center_cell, 18)\n",
    "selected_hexagons = list(hexagons)[:370]"
   ]
  },
  {
   "cell_type": "code",
   "execution_count": 3,
   "id": "b79525e0-7ec4-4437-b18d-ecaba9f70bba",
   "metadata": {},
   "outputs": [
    {
     "name": "stderr",
     "output_type": "stream",
     "text": [
      "/var/folders/7q/zfzb4qpx7blbls5m9jv9r8kc0000gn/T/ipykernel_98037/3596099318.py:22: SettingWithCopyWarning: \n",
      "A value is trying to be set on a copy of a slice from a DataFrame.\n",
      "Try using .loc[row_indexer,col_indexer] = value instead\n",
      "\n",
      "See the caveats in the documentation: https://pandas.pydata.org/pandas-docs/stable/user_guide/indexing.html#returning-a-view-versus-a-copy\n",
      "  data['pickup_h3_index'] = data.apply(lambda row: convert_to_h3_index(row['pickup_longitude'], row['pickup_latitude'], res), axis=1)\n",
      "/var/folders/7q/zfzb4qpx7blbls5m9jv9r8kc0000gn/T/ipykernel_98037/3596099318.py:23: SettingWithCopyWarning: \n",
      "A value is trying to be set on a copy of a slice from a DataFrame.\n",
      "Try using .loc[row_indexer,col_indexer] = value instead\n",
      "\n",
      "See the caveats in the documentation: https://pandas.pydata.org/pandas-docs/stable/user_guide/indexing.html#returning-a-view-versus-a-copy\n",
      "  data['dropoff_h3_index'] = data.apply(lambda row: convert_to_h3_index(row['dropoff_longitude'], row['dropoff_latitude'], res), axis=1)\n"
     ]
    }
   ],
   "source": [
    "def convert_to_h3_index(lng, lat, resolution):\n",
    "    # 使用h3.latlng_to_cell函数直接将经纬度转换为H3索引\n",
    "    h3_index = h3.latlng_to_cell(lat, lng, resolution)\n",
    "    #return h3_index\n",
    "    \n",
    "    return h3_index if h3_index in selected_hexagons else -1\n",
    "\n",
    "def filter_out_of_bounds(data):\n",
    "    # 纽约市的边界坐标\n",
    "    bounds = {\n",
    "        'min_longitude': -74.3280,\n",
    "        'max_longitude': -73.6317,\n",
    "        'min_latitude': 40.5503,\n",
    "        'max_latitude': 40.8445\n",
    "    }\n",
    "    \n",
    "    # 将边长转换为单位\n",
    "    res = 8\n",
    "    \n",
    "    \n",
    "    # 过滤掉超出边界的行程\n",
    "    data['pickup_h3_index'] = data.apply(lambda row: convert_to_h3_index(row['pickup_longitude'], row['pickup_latitude'], res), axis=1)\n",
    "    data['dropoff_h3_index'] = data.apply(lambda row: convert_to_h3_index(row['dropoff_longitude'], row['dropoff_latitude'], res), axis=1)\n",
    "    \n",
    "    data = data[data[\"pickup_h3_index\"] != -1]\n",
    "    data = data[data[\"dropoff_h3_index\"] != -1]\n",
    "    data = data[data[\"pickup_h3_index\"] != data[\"dropoff_h3_index\"]]\n",
    "    \n",
    "    data = data[(data['pickup_longitude'] >= bounds['min_longitude']) & \n",
    "               (data['pickup_longitude'] <= bounds['max_longitude']) &\n",
    "               (data['pickup_latitude'] >= bounds['min_latitude']) & \n",
    "               (data['pickup_latitude'] <= bounds['max_latitude'])]\n",
    "    data = data[(data['dropoff_longitude'] >= bounds['min_longitude']) & \n",
    "               (data['dropoff_longitude'] <= bounds['max_longitude']) &\n",
    "               (data['dropoff_latitude'] >= bounds['min_latitude']) & \n",
    "               (data['dropoff_latitude'] <= bounds['max_latitude'])]\n",
    "    \n",
    "    return data\n",
    "filtered_df2 = filter_out_of_bounds(filtered_df)\n"
   ]
  },
  {
   "cell_type": "code",
   "execution_count": 4,
   "id": "9b4e6958-de0a-4daa-9d02-f9dac859ba72",
   "metadata": {},
   "outputs": [
    {
     "name": "stdout",
     "output_type": "stream",
     "text": [
      "2048640 292\n"
     ]
    }
   ],
   "source": [
    "print(len(filtered_df2), len(set(filtered_df2['pickup_h3_index']).union(set(filtered_df2['dropoff_h3_index']))))"
   ]
  },
  {
   "cell_type": "code",
   "execution_count": 5,
   "id": "199c7d76-c341-4b25-a0a6-05c84f53478b",
   "metadata": {},
   "outputs": [
    {
     "name": "stderr",
     "output_type": "stream",
     "text": [
      "100%|███████████████████████████████████████████████████████████████████████| 2048640/2048640 [05:43<00:00, 5960.38it/s]\n"
     ]
    },
    {
     "data": {
      "text/plain": [
       "['requests.pth']"
      ]
     },
     "execution_count": 5,
     "metadata": {},
     "output_type": "execute_result"
    }
   ],
   "source": [
    "# 生成request\n",
    "import joblib\n",
    "requests = []\n",
    "for i in tqdm(range(len(filtered_df2))):\n",
    "    record = filtered_df2.iloc[i]\n",
    "    days = record['tpep_pickup_datetime'].day\n",
    "    hours = record['tpep_pickup_datetime'].hour\n",
    "    minutes = record['tpep_pickup_datetime'].minute\n",
    "    start_epoch = get_epoch(days, hours, minutes)\n",
    "    \n",
    "    days = record['tpep_dropoff_datetime'].day\n",
    "    hours = record['tpep_dropoff_datetime'].hour\n",
    "    minutes = record['tpep_dropoff_datetime'].minute\n",
    "    end_epoch = get_epoch(days, hours, minutes)\n",
    "    requests.append({\n",
    "        'id': i+1,\n",
    "        'pickup_zone': record[\"pickup_h3_index\"],\n",
    "        'dropoff_zone': record[\"dropoff_h3_index\"],\n",
    "        'pickup_time': start_epoch,\n",
    "        'dropoff_time': end_epoch\n",
    "    })\n",
    "joblib.dump(requests, \"requests.pth\")"
   ]
  },
  {
   "cell_type": "code",
   "execution_count": 12,
   "id": "785efcb4-4e57-467a-b98e-bcb4b724ccf2",
   "metadata": {},
   "outputs": [],
   "source": [
    "# 生成zone travel times\n",
    "import osmnx as ox\n",
    "from datetime import timedelta\n",
    "zone_travel_times = {}\n",
    "G = ox.graph_from_place('New York City, New York, USA', network_type='drive')\n",
    "\n"
   ]
  },
  {
   "cell_type": "code",
   "execution_count": null,
   "id": "8be97c64-5323-4d64-bd87-d090538083a8",
   "metadata": {},
   "outputs": [
    {
     "name": "stderr",
     "output_type": "stream",
     "text": [
      "  0%|                                                                                           | 0/370 [00:00<?, ?it/s]"
     ]
    }
   ],
   "source": [
    "for zone1 in tqdm(selected_hexagons):\n",
    "    for zone2 in selected_hexagons:\n",
    "        if zone1 == zone2:\n",
    "            zone_travel_times[(zone1, zone2)] = 0.\n",
    "        else:\n",
    "            lat1, lng1 = h3.cell_to_latlng(zone1)\n",
    "            lat2, lng2 = h3.cell_to_latlng(zone2)\n",
    "            point1 = (lat1, lng1)\n",
    "            point2 = (lat2, lng2)\n",
    "            orig_node = ox.distance.nearest_nodes(G, lng1, lat1)\n",
    "            dest_node = ox.distance.nearest_nodes(G, lng2, lat2)\n",
    "            route = ox.shortest_path(G, orig_node, dest_node)\n",
    "            distance = sum(ox.utils_graph.routing.route_to_gdf(G, route)[\"length\"])\n",
    "            \n",
    "            distance_t = distance / 8.5 # 秒\n",
    "            td = timedelta(seconds=distance_t)\n",
    "            \n",
    "            days = td.days + 22\n",
    "            seconds_remaining = td.seconds \n",
    "\n",
    "            hours = seconds_remaining // 3600\n",
    "            minutes = (seconds_remaining % 3600) // 60\n",
    "\n",
    "            spend_epoch = get_epoch(days, hours, minutes)\n",
    "\n",
    "            zone_travel_times[(zone1, zone2)] = spend_epoch\n",
    "joblib.dump(\"zone_travel_times.pth\", zone_travel_times)"
   ]
  },
  {
   "cell_type": "code",
   "execution_count": null,
   "id": "4da1cb6d-9e42-4562-8877-1111dfa2af51",
   "metadata": {},
   "outputs": [],
   "source": []
  },
  {
   "cell_type": "code",
   "execution_count": null,
   "id": "0a950eae-a0ab-4a14-b946-dac8bfeee3cd",
   "metadata": {},
   "outputs": [],
   "source": []
  }
 ],
 "metadata": {
  "kernelspec": {
   "display_name": "Python 3 (ipykernel)",
   "language": "python",
   "name": "python3"
  },
  "language_info": {
   "codemirror_mode": {
    "name": "ipython",
    "version": 3
   },
   "file_extension": ".py",
   "mimetype": "text/x-python",
   "name": "python",
   "nbconvert_exporter": "python",
   "pygments_lexer": "ipython3",
   "version": "3.8.3"
  }
 },
 "nbformat": 4,
 "nbformat_minor": 5
}
